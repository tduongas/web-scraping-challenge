{
 "cells": [
  {
   "cell_type": "code",
   "execution_count": 27,
   "metadata": {},
   "outputs": [],
   "source": [
    "from bs4 import BeautifulSoup as bs\n",
    "from splinter import Browser\n",
    "import os\n",
    "import pandas as pd\n",
    "import time\n",
    "import re\n",
    "import requests\n",
    "import time\n",
    "from urllib.parse import urlsplit # to get base_url"
   ]
  },
  {
   "cell_type": "code",
   "execution_count": 55,
   "metadata": {},
   "outputs": [],
   "source": [
    "#pointing to the directory where chromedriver exists\n",
    "executable_path = {'executable_path': 'chromedriver.exe'}\n",
    "browser = Browser('chrome', **executable_path, headless=False)"
   ]
  },
  {
   "cell_type": "code",
   "execution_count": 29,
   "metadata": {},
   "outputs": [],
   "source": [
    "# mars news\n",
    "url = \"https://mars.nasa.gov/news/\"\n",
    "browser.visit(url)"
   ]
  },
  {
   "cell_type": "code",
   "execution_count": 30,
   "metadata": {},
   "outputs": [],
   "source": [
    "#using bs to write it into html\n",
    "html = browser.html\n",
    "soup = bs(html,\"html.parser\")\n",
    "\n",
    "time.sleep(5) # Ned to run twice to clear the javascript enable warning\n",
    "\n",
    "html = browser.html\n",
    "soup = bs(html,\"html.parser\")"
   ]
  },
  {
   "cell_type": "markdown",
   "metadata": {},
   "source": [
    "# NASA Mars News"
   ]
  },
  {
   "cell_type": "code",
   "execution_count": 31,
   "metadata": {},
   "outputs": [],
   "source": [
    "# Store in this dictionary the title and paragraph\n",
    "nasa_mars_news = {}\n",
    "\n",
    "# results are returned as an iterable list\n",
    "results = soup.find_all('li', class_=\"slide\")\n",
    "# print(results)"
   ]
  },
  {
   "cell_type": "code",
   "execution_count": 33,
   "metadata": {},
   "outputs": [
    {
     "name": "stdout",
     "output_type": "stream",
     "text": [
      "----------------------------\n",
      "News Title: Three New Views of Mars' Moon Phobos\n",
      "Paragraph: Taken with the infrared camera aboard NASA's Odyssey orbiter, they reveal temperature variations on the small moon as it drifts into and out of Mars’ shadow.\n",
      "\n",
      "----------------------------\n",
      "News Title: The Extraordinary Sample-Gathering System of NASA's Perseverance Mars Rover\n",
      "Paragraph: Two astronauts collected Moon rocks on Apollo 11. It will take three robotic systems working together to gather up the first Mars rock samples for return to Earth.\n",
      "\n",
      "----------------------------\n",
      "News Title: The Detective Aboard NASA's Perseverance Rover\n",
      "Paragraph: An instrument called SHERLOC will, with the help of its partner WATSON, hunt for signs of ancient life by detecting organic molecules and minerals.\n",
      "\n",
      "----------------------------\n",
      "News Title: MAVEN Maps Electric Currents around Mars that are Fundamental to Atmospheric Loss\n",
      "Paragraph: Five years after NASA’s MAVEN spacecraft entered into orbit around Mars, data from the mission has led to the creation of a map of electric current systems in the Martian atmosphere.\n",
      "\n",
      "----------------------------\n",
      "News Title: Air Deliveries Bring NASA's Perseverance Mars Rover Closer to Launch\n",
      "Paragraph: A NASA Wallops Flight Facility cargo plane transported more than two tons of equipment — including the rover's sample collection tubes — to Florida for this summer's liftoff.\n",
      "\n",
      "----------------------------\n",
      "News Title: NASA Wins 4 Webbys, 4 People's Voice Awards\n",
      "Paragraph: Winners include the JPL-managed \"Send Your Name to Mars\" campaign, NASA's Global Climate Change website and Solar System Interactive.\n",
      "\n",
      "----------------------------\n",
      "News Title: NASA's Perseverance Rover Goes Through Trials by Fire, Ice, Light and Sound\n",
      "Paragraph: The agency's new Mars rover is put through a series of tests in vacuum chambers, acoustic chambers and more to get ready for the Red Planet.\n",
      "\n",
      "----------------------------\n",
      "News Title: NASA's Perseverance Rover Mission Getting in Shape for Launch\n",
      "Paragraph: Stacking spacecraft components on top of each other is one of the final assembly steps before a mission launches to the Red Planet. \n",
      "\n",
      "----------------------------\n",
      "News Title: NASA Perseverance Mars Rover Scientists Train in the Nevada Desert\n",
      "Paragraph: Team members searched for signs of ancient microscopic life there, just as NASA's latest rover will on the Red Planet next year.\n",
      "\n",
      "----------------------------\n",
      "News Title: NASA's Perseverance Rover Will Look at Mars Through These 'Eyes'\n",
      "Paragraph: A pair of zoomable cameras will help scientists and rover drivers with high-resolution color images.\n",
      "\n",
      "----------------------------\n",
      "News Title: Meet the People Behind NASA's Perseverance Rover\n",
      "Paragraph: These are the scientists and engineers who built NASA's next Mars rover and who will guide it to a safe landing in Jezero Crater. \n",
      "\n",
      "----------------------------\n",
      "News Title: Q&A with the Student Who Named Ingenuity, NASA's Mars Helicopter\n",
      "Paragraph: As a longtime fan of space exploration, Vaneeza Rupani appreciates the creativity and collaboration involved with trying to fly on another planet.\n",
      "\n",
      "----------------------------\n",
      "News Title: Alabama High School Student Names NASA's Mars Helicopter\n",
      "Paragraph: Vaneeza Rupani's essay was chosen as the name for the small spacecraft, which will mark NASA's first attempt at powered flight on another planet.\n",
      "\n",
      "----------------------------\n",
      "News Title: How NASA's Perseverance Mars Team Adjusted to Work in the Time of Coronavirus \n",
      "Paragraph: Like much of the rest of the world, the Mars rover team is pushing forward with its mission-critical work while putting the health and safety of their colleagues and community first.\n",
      "\n",
      "----------------------------\n",
      "News Title: NASA's Perseverance Mars Rover Gets Balanced\n",
      "Paragraph: The mission team performed a crucial weight-balancing test on the rover in preparation for this summer's history-making launch to the Red Planet.\n",
      "\n",
      "----------------------------\n",
      "News Title: NASA's Curiosity Keeps Rolling As Team Operates Rover From Home\n",
      "Paragraph: The team has learned to meet new challenges as they work remotely on the Mars mission.\n",
      "\n",
      "----------------------------\n",
      "News Title: Mars Helicopter Attached to NASA's Perseverance Rover\n",
      "Paragraph: The team also fueled the rover's sky crane to get ready for this summer's history-making launch.\n",
      "\n",
      "----------------------------\n",
      "News Title: NASA's Perseverance Mars Rover Gets Its Wheels and Air Brakes\n",
      "Paragraph: After the rover was shipped from JPL to Kennedy Space Center, the team is getting closer to finalizing the spacecraft for launch later this summer.\n",
      "\n",
      "----------------------------\n",
      "News Title: The Man Who Wanted to Fly on Mars\n",
      "Paragraph: The Mars Helicopter is riding to the Red Planet this summer with NASA's Perseverance rover. The helicopter's chief engineer, Bob Balaram, shares the saga of how it came into being.\n",
      "\n",
      "----------------------------\n",
      "News Title: 10.9 Million Names Now Aboard NASA's Perseverance Mars Rover\n",
      "Paragraph: As part of NASA's 'Send Your Name to Mars' campaign, they've been stenciled onto three microchips along with essays from NASA's 'Name the Rover' contest. Next stop: Mars.\n",
      "\n",
      "----------------------------\n",
      "News Title: NASA's Curiosity Mars Rover Takes a New Selfie Before Record Climb\n",
      "Paragraph: Along with capturing an image before its steepest ascent ever, the robotic explorer filmed its \"selfie stick,\" or robotic arm, in action.\n",
      "\n",
      "----------------------------\n",
      "News Title: NASA's Mars Perseverance Rover Gets Its Sample Handling System\n",
      "Paragraph: The system will be collecting and storing Martian rock and soil. Its installation marks another milestone in the march toward the July launch period.\n",
      "\n",
      "----------------------------\n",
      "News Title: Virginia Middle School Student Earns Honor of Naming NASA's Next Mars Rover\n",
      "Paragraph: NASA chose a seventh-grader from Virginia as winner of the agency's \"Name the Rover\" essay contest. Alexander Mather's entry for \"Perseverance\" was voted tops among 28,000 entries. \n",
      "\n",
      "----------------------------\n",
      "News Title: NASA's Curiosity Mars Rover Snaps Its Highest-Resolution Panorama Yet\n",
      "Paragraph: To go along with the stunning 1.8-billion-pixel image, a new video offers a sweeping view of the Red Planet.\n",
      "\n",
      "----------------------------\n",
      "News Title: NASA to Reveal Name of Its Next Mars Rover\n",
      "Paragraph: After a months-long contest among students to name NASA's newest Mars rover, the agency will reveal the winning name — and the winning student — this Thursday. \n",
      "\n",
      "----------------------------\n",
      "News Title: The MarCO Mission Comes to an End\n",
      "Paragraph: The pair of briefcase-sized satellites made history when they sailed past Mars in 2019.\n",
      "\n",
      "----------------------------\n",
      "News Title: A Year of Surprising Science From NASA's InSight Mars Mission\n",
      "Paragraph: A batch of new papers summarizes the lander's findings above and below the surface of the Red Planet.\n",
      "\n",
      "----------------------------\n",
      "News Title: Mars InSight Lander to Push on Top of the 'Mole'\n",
      "Paragraph: Engineers have a plan for pushing down on the heat probe, which has been stuck at the Martian surface for a year.\n",
      "\n",
      "----------------------------\n",
      "News Title: Common Questions about InSight's 'Mole'\n",
      "Paragraph: The following Q&As with members of the team answer some of the most common questions about the burrowing device, part of a science instrument called the Heat Flow and Physical Properties Package (HP3).\n",
      "\n",
      "----------------------------\n",
      "News Title: NASA Adds Return Sample Scientists to Mars 2020 Leadership Team\n",
      "Paragraph: The leadership council for Mars 2020 science added two new members who represent the interests of scientists destined to handle and study the first samples from Red Planet.\n",
      "\n",
      "----------------------------\n",
      "News Title: NASA's Mars Reconnaissance Orbiter Undergoes Memory Update\n",
      "Paragraph: Other orbiters will continue relaying data from Mars surface missions for a two-week period.\n",
      "\n",
      "----------------------------\n",
      "News Title: NASA's Mars 2020 Rover Goes Coast-to-Coast to Prep for Launch\n",
      "Paragraph: The agency's first step in returning rocks from Mars just arrived at Kennedy Space Center. The Mars 2020 team now begins readying for a launch to the Red Planet this July.\n",
      "\n",
      "----------------------------\n",
      "News Title: NASA Prepares for Moon and Mars With New Addition to Its Deep Space Network\n",
      "Paragraph: Robotic spacecraft will be able to communicate with the dish using radio waves and lasers.\n",
      "\n",
      "----------------------------\n",
      "News Title: NASA Administrator Statement on Moon to Mars Initiative, FY 2021 Budget\n",
      "Paragraph: Jim Bridenstine addresses NASA's ambitious plans for the coming years, including Mars Sample Return.\n",
      "\n",
      "----------------------------\n",
      "News Title: All About the Laser (and Microphone) Atop Mars 2020, NASA's Next Rover\n",
      "Paragraph: SuperCam is a rock-vaporizing instrument that will help scientists hunt for Mars fossils.\n",
      "\n",
      "----------------------------\n",
      "News Title: NASA's MAVEN Explores Mars to Understand Radio Interference at Earth\n",
      "Paragraph: NASA’s MAVEN spacecraft has discovered “layers” and “rifts” in the electrically charged part of the upper atmosphere of Mars.\n",
      "\n",
      "----------------------------\n",
      "News Title: Nine Finalists Chosen in NASA's Mars 2020 Rover Naming Contest\n",
      "Paragraph: Nine finalists have been chosen in the essay contest for K-12 students across U.S. to name NASA's next Mars rover. Now you can help by voting for your favorite. \n",
      "\n",
      "----------------------------\n",
      "News Title: NASA's Mars 2020 Rover Closer to Getting Its Name\n",
      "Paragraph: 155 students from across the U.S. have been chosen as semifinalists in NASA's essay contest to name the Mars 2020 rover, and see it launch from Cape Canaveral this July.\n",
      "\n",
      "----------------------------\n",
      "News Title: Media Get a Close-Up of NASA's Mars 2020 Rover\n",
      "Paragraph: The clean room at NASA's Jet Propulsion Laboratory was open to the media to see NASA's next Mars explorer before it leaves for Florida in preparation for a summertime launch.\n",
      "\n",
      "----------------------------\n",
      "News Title: Space History Is Made in This NASA Robot Factory\n",
      "Paragraph: From rockets to rovers, JPL's Spacecraft Assembly Facility has been at the center of robotic spaceflight. Here's a closer look at what makes it so special.\n",
      "\n"
     ]
    }
   ],
   "source": [
    "# Loop through returned results\n",
    "for result in results:\n",
    "    # Error handling\n",
    "    try:\n",
    "        # Identify and return news title\n",
    "        content_title = result.find('div', class_=\"content_title\")\n",
    "        news_title = content_title.a.text\n",
    "        \n",
    "        paragraph = result.find('div', class_=\"article_teaser_body\").text\n",
    "        \n",
    "        # Get index of content to use for paragraph\n",
    "        new_index = results.index(result)\n",
    "        \n",
    "        # Store news title and paragraph into a dictionary\n",
    "        nasa_mars_news[new_index] = {'news_title': news_title.strip('\\n'), 'paragraph': paragraph}\n",
    "    \n",
    "    except AttributeError as e:\n",
    "        print(e) \n",
    "\n",
    "# Print result        \n",
    "for key, value in nasa_mars_news.items():\n",
    "    print(\"----------------------------\")\n",
    "    print(\"News Title: \" + value[\"news_title\"] + \"\\nParagraph: \" + value[\"paragraph\"] + \"\\n\")"
   ]
  },
  {
   "cell_type": "markdown",
   "metadata": {},
   "source": [
    "# JPL Mars Space Images - Featured Image"
   ]
  },
  {
   "cell_type": "code",
   "execution_count": 34,
   "metadata": {},
   "outputs": [],
   "source": [
    "# Space images\n",
    "domain_name = \"https://www.jpl.nasa.gov\"\n",
    "url = domain_name + \"/spaceimages/?search=&category=Mars\"\n",
    "browser.visit(url)\n",
    "\n",
    "#using bs to write it into html\n",
    "html = browser.html\n",
    "soup = bs(html,\"html.parser\")"
   ]
  },
  {
   "cell_type": "code",
   "execution_count": 35,
   "metadata": {},
   "outputs": [
    {
     "name": "stdout",
     "output_type": "stream",
     "text": [
      "featured_image_url = https://www.jpl.nasa.gov/spaceimages/images/wallpaper/PIA23893-640x350.jpg\n"
     ]
    }
   ],
   "source": [
    "image_description_container = soup.find('div', class_=\"image_and_description_container\")\n",
    "latest_image = image_description_container.find('img', class_=\"thumb\")\n",
    "featured_image_url = domain_name + latest_image['src']\n",
    "print(f\"featured_image_url = {featured_image_url}\")"
   ]
  },
  {
   "cell_type": "markdown",
   "metadata": {},
   "source": [
    "# Mars Weather"
   ]
  },
  {
   "cell_type": "code",
   "execution_count": 36,
   "metadata": {},
   "outputs": [],
   "source": [
    "# Mars weather\n",
    "domain_name = \"https://twitter.com\"\n",
    "url = domain_name + \"/marswxreport?lang=en\"\n",
    "browser.visit(url)"
   ]
  },
  {
   "cell_type": "code",
   "execution_count": 37,
   "metadata": {},
   "outputs": [],
   "source": [
    "#using bs to write it into html\n",
    "html = browser.html\n",
    "soup = bs(html,\"html.parser\")\n",
    "\n",
    "time.sleep(5) # Ned to run twice to clear the javascript enable warning\n",
    "\n",
    "html = browser.html\n",
    "soup = bs(html,\"html.parser\")\n",
    "# print(soup.prettify())"
   ]
  },
  {
   "cell_type": "code",
   "execution_count": 38,
   "metadata": {},
   "outputs": [
    {
     "name": "stdout",
     "output_type": "stream",
     "text": [
      "Mars weather = InSight sol 544 (2020-06-07) low -92.0ºC (-133.6ºF) high -6.1ºC (21.1ºF)\n",
      "winds from the WNW at 6.6 m/s (14.7 mph) gusting to 22.9 m/s (51.3 mph)\n",
      "pressure at 7.40 hPa\n"
     ]
    }
   ],
   "source": [
    "mars_weather = soup.find('span', text = re.compile(\"InSight sol\"))\n",
    "print(f\"Mars weather = {mars_weather.text}\")"
   ]
  },
  {
   "cell_type": "markdown",
   "metadata": {},
   "source": [
    "# Mars Facts "
   ]
  },
  {
   "cell_type": "code",
   "execution_count": 39,
   "metadata": {},
   "outputs": [],
   "source": [
    " # url to visit\n",
    "url = 'http://space-facts.com/mars/'\n",
    "\n",
    "# use pandas to extract table from the page\n",
    "facts_table = pd.read_html(url)"
   ]
  },
  {
   "cell_type": "code",
   "execution_count": 40,
   "metadata": {},
   "outputs": [
    {
     "data": {
      "text/html": [
       "<div>\n",
       "<style scoped>\n",
       "    .dataframe tbody tr th:only-of-type {\n",
       "        vertical-align: middle;\n",
       "    }\n",
       "\n",
       "    .dataframe tbody tr th {\n",
       "        vertical-align: top;\n",
       "    }\n",
       "\n",
       "    .dataframe thead th {\n",
       "        text-align: right;\n",
       "    }\n",
       "</style>\n",
       "<table border=\"1\" class=\"dataframe\">\n",
       "  <thead>\n",
       "    <tr style=\"text-align: right;\">\n",
       "      <th></th>\n",
       "      <th>Value</th>\n",
       "    </tr>\n",
       "    <tr>\n",
       "      <th>Parameter</th>\n",
       "      <th></th>\n",
       "    </tr>\n",
       "  </thead>\n",
       "  <tbody>\n",
       "    <tr>\n",
       "      <td>Equatorial Diameter:</td>\n",
       "      <td>6,792 km</td>\n",
       "    </tr>\n",
       "    <tr>\n",
       "      <td>Polar Diameter:</td>\n",
       "      <td>6,752 km</td>\n",
       "    </tr>\n",
       "    <tr>\n",
       "      <td>Mass:</td>\n",
       "      <td>6.39 × 10^23 kg (0.11 Earths)</td>\n",
       "    </tr>\n",
       "    <tr>\n",
       "      <td>Moons:</td>\n",
       "      <td>2 (Phobos &amp; Deimos)</td>\n",
       "    </tr>\n",
       "    <tr>\n",
       "      <td>Orbit Distance:</td>\n",
       "      <td>227,943,824 km (1.38 AU)</td>\n",
       "    </tr>\n",
       "    <tr>\n",
       "      <td>Orbit Period:</td>\n",
       "      <td>687 days (1.9 years)</td>\n",
       "    </tr>\n",
       "    <tr>\n",
       "      <td>Surface Temperature:</td>\n",
       "      <td>-87 to -5 °C</td>\n",
       "    </tr>\n",
       "    <tr>\n",
       "      <td>First Record:</td>\n",
       "      <td>2nd millennium BC</td>\n",
       "    </tr>\n",
       "    <tr>\n",
       "      <td>Recorded By:</td>\n",
       "      <td>Egyptian astronomers</td>\n",
       "    </tr>\n",
       "  </tbody>\n",
       "</table>\n",
       "</div>"
      ],
      "text/plain": [
       "                                              Value\n",
       "Parameter                                          \n",
       "Equatorial Diameter:                       6,792 km\n",
       "Polar Diameter:                            6,752 km\n",
       "Mass:                 6.39 × 10^23 kg (0.11 Earths)\n",
       "Moons:                          2 (Phobos & Deimos)\n",
       "Orbit Distance:            227,943,824 km (1.38 AU)\n",
       "Orbit Period:                  687 days (1.9 years)\n",
       "Surface Temperature:                   -87 to -5 °C\n",
       "First Record:                     2nd millennium BC\n",
       "Recorded By:                   Egyptian astronomers"
      ]
     },
     "execution_count": 40,
     "metadata": {},
     "output_type": "execute_result"
    }
   ],
   "source": [
    "# create df with columns' headers\n",
    "df_mars_facts = facts_table[0]\n",
    "df_mars_facts.columns = ['Parameter','Value']\n",
    "df_mars_facts.set_index([\"Parameter\"])"
   ]
  },
  {
   "cell_type": "code",
   "execution_count": 41,
   "metadata": {},
   "outputs": [
    {
     "name": "stdout",
     "output_type": "stream",
     "text": [
      "<table border=\"1\" class=\"dataframe\">  <thead>    <tr style=\"text-align: right;\">      <th></th>      <th>Parameter</th>      <th>Value</th>    </tr>  </thead>  <tbody>    <tr>      <th>0</th>      <td>Equatorial Diameter:</td>      <td>6,792 km</td>    </tr>    <tr>      <th>1</th>      <td>Polar Diameter:</td>      <td>6,752 km</td>    </tr>    <tr>      <th>2</th>      <td>Mass:</td>      <td>6.39 × 10^23 kg (0.11 Earths)</td>    </tr>    <tr>      <th>3</th>      <td>Moons:</td>      <td>2 (Phobos &amp; Deimos)</td>    </tr>    <tr>      <th>4</th>      <td>Orbit Distance:</td>      <td>227,943,824 km (1.38 AU)</td>    </tr>    <tr>      <th>5</th>      <td>Orbit Period:</td>      <td>687 days (1.9 years)</td>    </tr>    <tr>      <th>6</th>      <td>Surface Temperature:</td>      <td>-87 to -5 °C</td>    </tr>    <tr>      <th>7</th>      <td>First Record:</td>      <td>2nd millennium BC</td>    </tr>    <tr>      <th>8</th>      <td>Recorded By:</td>      <td>Egyptian astronomers</td>    </tr>  </tbody></table>\n"
     ]
    }
   ],
   "source": [
    "# convert to html table\n",
    "mars_table = df_mars_facts.to_html()\n",
    "mars_table = mars_table.replace(\"\\n\", \"\")\n",
    "print(mars_table)"
   ]
  },
  {
   "cell_type": "markdown",
   "metadata": {},
   "source": [
    "# Mars Hemispheres"
   ]
  },
  {
   "cell_type": "code",
   "execution_count": 56,
   "metadata": {},
   "outputs": [
    {
     "name": "stdout",
     "output_type": "stream",
     "text": [
      "https://astrogeology.usgs.gov\n"
     ]
    }
   ],
   "source": [
    "# url from excercise\n",
    "url_hemisphere = \"https://astrogeology.usgs.gov/search/results?q=hemisphere+enhanced&k1=target&v1=Mars\"\n",
    "\n",
    "# Get base url\n",
    "hemisphere_base_url = \"{0.scheme}://{0.netloc}/\".format(urlsplit(url_hemisphere))\n",
    "hemisphere_base_url = hemisphere_base_url[:-1] # remove the last character forward slash\n",
    "print(hemisphere_base_url)"
   ]
  },
  {
   "cell_type": "code",
   "execution_count": 57,
   "metadata": {},
   "outputs": [],
   "source": [
    " # launch browser\n",
    "browser.visit(url_hemisphere)\n",
    "\n",
    "# create beautifulsoup object\n",
    "soup = bs(browser.html, 'html.parser')\n",
    "time.sleep(10) # Need to cater for slow loading of the web site\n",
    "# soup = bs(browser.html, 'html.parser')"
   ]
  },
  {
   "cell_type": "code",
   "execution_count": 25,
   "metadata": {},
   "outputs": [
    {
     "name": "stdout",
     "output_type": "stream",
     "text": [
      "[<div class=\"description\"><a class=\"itemLink product-item\" href=\"/search/map/Mars/Viking/cerberus_enhanced\"><h3>Cerberus Hemisphere Enhanced</h3></a><span class=\"subtitle\" style=\"float:left\">image/tiff 21 MB</span><span class=\"pubDate\" style=\"float:right\"></span><br/><p>Mosaic of the Cerberus hemisphere of Mars projected into point perspective, a view similar to that which one would see from a spacecraft. This mosaic is composed of 104 Viking Orbiter images acquired…</p></div>, <div class=\"description\"><a class=\"itemLink product-item\" href=\"/search/map/Mars/Viking/schiaparelli_enhanced\"><h3>Schiaparelli Hemisphere Enhanced</h3></a><span class=\"subtitle\" style=\"float:left\">image/tiff 35 MB</span><span class=\"pubDate\" style=\"float:right\"></span><br/><p>Mosaic of the Schiaparelli hemisphere of Mars projected into point perspective, a view similar to that which one would see from a spacecraft. The images were acquired in 1980 during early northern…</p></div>, <div class=\"description\"><a class=\"itemLink product-item\" href=\"/search/map/Mars/Viking/syrtis_major_enhanced\"><h3>Syrtis Major Hemisphere Enhanced</h3></a><span class=\"subtitle\" style=\"float:left\">image/tiff 25 MB</span><span class=\"pubDate\" style=\"float:right\"></span><br/><p>Mosaic of the Syrtis Major hemisphere of Mars projected into point perspective, a view similar to that which one would see from a spacecraft. This mosaic is composed of about 100 red and violet…</p></div>, <div class=\"description\"><a class=\"itemLink product-item\" href=\"/search/map/Mars/Viking/valles_marineris_enhanced\"><h3>Valles Marineris Hemisphere Enhanced</h3></a><span class=\"subtitle\" style=\"float:left\">image/tiff 27 MB</span><span class=\"pubDate\" style=\"float:right\"></span><br/><p>Mosaic of the Valles Marineris hemisphere of Mars projected into point perspective, a view similar to that which one would see from a spacecraft. The distance is 2500 kilometers from the surface of…</p></div>]\n"
     ]
    }
   ],
   "source": [
    "# find section with images on the page\n",
    "div = soup.find('div', class_='results')\n",
    "div = div.find_all('div', class_='description')\n",
    "print(div)"
   ]
  },
  {
   "cell_type": "code",
   "execution_count": 26,
   "metadata": {},
   "outputs": [
    {
     "name": "stdout",
     "output_type": "stream",
     "text": [
      "[{'title': 'Cerberus Hemisphere Enhanced', 'image_url': 'https://astropedia.astrogeology.usgs.gov/download/Mars/Viking/cerberus_enhanced.tif/full.jpg'}, {'title': 'Schiaparelli Hemisphere Enhanced', 'image_url': 'https://astropedia.astrogeology.usgs.gov/download/Mars/Viking/schiaparelli_enhanced.tif/full.jpg'}, {'title': 'Syrtis Major Hemisphere Enhanced', 'image_url': 'https://astropedia.astrogeology.usgs.gov/download/Mars/Viking/syrtis_major_enhanced.tif/full.jpg'}, {'title': 'Valles Marineris Hemisphere Enhanced', 'image_url': 'https://astropedia.astrogeology.usgs.gov/download/Mars/Viking/valles_marineris_enhanced.tif/full.jpg'}]\n"
     ]
    }
   ],
   "source": [
    "# Initialise list of dictionaries to store title and img_url\n",
    "hemisphere_image_urls = []\n",
    "\n",
    "# Loop through div results\n",
    "for div_result in div:\n",
    "    # Error handling\n",
    "    try:\n",
    "        # Identify and return news title\n",
    "        title = div_result.find('h3').text\n",
    "        #print(title)\n",
    "        \n",
    "        anchor_tag = div_result.find('a', class_=\"itemLink product-item\")\n",
    "        image_url = hemisphere_base_url + anchor_tag[\"href\"]\n",
    "        \n",
    "        # /download/Mars/Viking/cerberus_enhanced.tif/full.jpg\n",
    "        #print(image_url)\n",
    "        \n",
    "        browser.visit(image_url)        \n",
    "        sub_soup = bs(browser.html, 'html.parser')\n",
    "        \n",
    "        download_div = sub_soup.find('div', class_=\"downloads\")\n",
    "        img_anchor_tag = download_div.find('a')\n",
    "        full_res_image_url = img_anchor_tag[\"href\"]\n",
    "        #print(full_res_image_url)\n",
    "        \n",
    "                                \n",
    "        # Store news title and image url into a dictionary\n",
    "        hemisphere_image_urls.append({'title': title, 'image_url': full_res_image_url})\n",
    "    \n",
    "    except AttributeError as e:\n",
    "        print(e) \n",
    "\n",
    "print(hemisphere_image_urls)        "
   ]
  }
 ],
 "metadata": {
  "kernelspec": {
   "display_name": "Python 3",
   "language": "python",
   "name": "python3"
  },
  "language_info": {
   "codemirror_mode": {
    "name": "ipython",
    "version": 3
   },
   "file_extension": ".py",
   "mimetype": "text/x-python",
   "name": "python",
   "nbconvert_exporter": "python",
   "pygments_lexer": "ipython3",
   "version": "3.7.4"
  }
 },
 "nbformat": 4,
 "nbformat_minor": 2
}
